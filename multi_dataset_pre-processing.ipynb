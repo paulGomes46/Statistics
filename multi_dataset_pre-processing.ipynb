{
 "cells": [
  {
   "cell_type": "markdown",
   "id": "459c7d32-0d4c-4999-8ebe-ec6cdf507590",
   "metadata": {},
   "source": [
    "# Datasets centering"
   ]
  },
  {
   "cell_type": "code",
   "execution_count": 2,
   "id": "6262017a-e759-4800-ab80-f43f25afbce3",
   "metadata": {},
   "outputs": [
    {
     "name": "stdout",
     "output_type": "stream",
     "text": [
      "5852.803559550985 14020.37673147814\n",
      "1.5477395047596882 0.646103557429883\n",
      "14020.37673147814 14020.37673147814\n",
      "yes\n"
     ]
    }
   ],
   "source": [
    "# Equal total sum of squares\n",
    "\n",
    "import pandas as pd\n",
    "\n",
    "# Load datasets again\n",
    "folder = \"Li_Oi-DAP_DAM\"\n",
    "df1 = pd.read_excel(f'O2PLS_DA/{folder}/data/proteome/proteome_KNN_CV_PS.xlsx')\n",
    "df2 = pd.read_excel(f'O2PLS_DA/{folder}/data/metabolome/metabolome_log2_PS.xlsx')\n",
    "\n",
    "# Separate sample names, class labels, and features\n",
    "sample_names_df1 = df1.iloc[:, 0]\n",
    "class_labels_df1 = df1.iloc[:, 1]\n",
    "features_df1 = df1.iloc[:, 2:]\n",
    "\n",
    "sample_names_df2 = df2.iloc[:, 0]\n",
    "class_labels_df2 = df2.iloc[:, 1]\n",
    "features_df2 = df2.iloc[:, 2:]\n",
    "\n",
    "# Ensure all features are numeric\n",
    "features_df1 = features_df1.apply(pd.to_numeric, errors='coerce')\n",
    "features_df2 = features_df2.apply(pd.to_numeric, errors='coerce')\n",
    "\n",
    "# Drop rows with NaN values in features\n",
    "features_df1 = features_df1.dropna()\n",
    "features_df2 = features_df2.dropna()\n",
    "\n",
    "# Calculate sum of squares for each dataset\n",
    "ss_df1 = (features_df1 ** 2).sum().sum()\n",
    "ss_df2 = (features_df2 ** 2).sum().sum()\n",
    "\n",
    "print(ss_df1, ss_df2)\n",
    "\n",
    "# Determine scaling factors\n",
    "scaling_factor_df1 = (ss_df2 / ss_df1) ** 0.5\n",
    "scaling_factor_df2 = (ss_df1 / ss_df2) ** 0.5\n",
    "\n",
    "print(scaling_factor_df1, scaling_factor_df2)\n",
    "\n",
    "# Scale the datasets\n",
    "scaled_df1 = features_df1 * scaling_factor_df1\n",
    "scaled_df2 = features_df2  # features_df2 is left unchanged\n",
    "\n",
    "# Verify sum of squares\n",
    "ss_scaled_df1 = (scaled_df1 ** 2).sum().sum()\n",
    "ss_scaled_df2 = (scaled_df2 ** 2).sum().sum()\n",
    "\n",
    "print(ss_scaled_df1, ss_scaled_df2)\n",
    "\n",
    "# Combine scaled features with sample names and class labels\n",
    "df1_scaled = pd.concat([sample_names_df1, class_labels_df1, scaled_df1], axis=1)\n",
    "df2_scaled = pd.concat([sample_names_df2, class_labels_df2, scaled_df2], axis=1)\n",
    "\n",
    "# Save scaled datasets to new Excel files\n",
    "df1_scaled.to_excel(f'O2PLS_DA/{folder}/data/proteome/proteome_centered.xlsx', index=False)\n",
    "df2_scaled.to_excel(f'O2PLS_DA/{folder}/data/metabolome/metabolome_centered.xlsx', index=False)\n",
    "print(\"yes\")"
   ]
  }
 ],
 "metadata": {
  "kernelspec": {
   "display_name": "Python 3 (ipykernel)",
   "language": "python",
   "name": "python3"
  },
  "language_info": {
   "codemirror_mode": {
    "name": "ipython",
    "version": 3
   },
   "file_extension": ".py",
   "mimetype": "text/x-python",
   "name": "python",
   "nbconvert_exporter": "python",
   "pygments_lexer": "ipython3",
   "version": "3.11.9"
  }
 },
 "nbformat": 4,
 "nbformat_minor": 5
}
